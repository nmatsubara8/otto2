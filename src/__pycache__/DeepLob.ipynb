{
 "cells": [
  {
   "cell_type": "markdown",
   "metadata": {},
   "source": [
    "Preprocessing"
   ]
  },
  {
   "cell_type": "code",
   "execution_count": null,
   "metadata": {},
   "outputs": [],
   "source": [
    "from tensorflow.python.client import device_lib\n",
    "print(device_lib.list_local_devices())"
   ]
  },
  {
   "cell_type": "code",
   "execution_count": null,
   "metadata": {},
   "outputs": [],
   "source": [
    "import sys\n",
    "import numpy as np\n",
    "from sklearn.preprocessing import KBinsDiscretizer\n",
    "#from keras.utils import np_utils\n",
    "from tensorflow.keras.layers import Dense, Input, LSTM, Reshape, Conv2D, MaxPooling2D\n",
    "from tensorflow import keras\n",
    "from tensorflow.keras.models import Model\n",
    "from tensorflow.keras.optimizers import Adam\n",
    "import tensorflow as tf\n",
    "from sklearn.metrics import classification_report, accuracy_score\n",
    "import matplotlib.pyplot as plt\n",
    "import pandas as pd\n",
    "import math\n",
    "import os\n",
    "import shutil\n",
    "import ntpath\n",
    "import re\n",
    "import csv\n",
    "import json\n",
    "from datetime import datetime as dt\n",
    "import requests\n",
    "import pytz\n",
    "from datetime import timedelta"
   ]
  },
  {
   "cell_type": "markdown",
   "metadata": {},
   "source": [
    "# Data Loading and Visualization"
   ]
  },
  {
   "cell_type": "code",
   "execution_count": null,
   "metadata": {},
   "outputs": [],
   "source": [
    "df = pd.read_csv('./input/1-09-1-20.csv',index_col='Unnamed: 0',parse_dates=True)\n",
    "\n",
    "#df.columns = np.arange(42)\n",
    "df.columns =['UT','Datetime',\n",
    "             'BPr_1','Bvol_1','BPr_2','Bvol_2','BPr_3','Bvol_3','BPr_4','Bvol_4','BPr_5','Bvol_5',\n",
    "             'BPr_6','Bvol_6','BPr_7','Bvol_7','BPr_8','Bvol_8','BPr_9','Bvol_9','BPr_10','Bvol_10',\n",
    "            'Apr_1','Avol_1','Apr_2','Avol_2','Apr_3','Avol_3','Apr_4','Avol_4','Apr_5','Avol_5',\n",
    "            'Apr_6','Avol_6','Apr_7','Avol_7','Apr_8','Avol_8','Apr_9','Avol_9','Apr_10','Avol_10'\n",
    "            ]\n",
    "df"
   ]
  },
  {
   "cell_type": "code",
   "execution_count": null,
   "metadata": {},
   "outputs": [],
   "source": [
    "#df = df.drop_duplicates(subset=1)\n",
    "#df['UT'] = df['UT'].apply(lambda x:dt.fromtimestamp(x/1000,tz=pytz.UTC))\n",
    "df_wrk=pd.DataFrame()\n",
    "df_wrk['Datetime']=df['Datetime']\n",
    "df_wrk['UT'] =df['UT'] \n",
    "#data = df.loc[:,[2,3,22,23,4,5,24,25,6,7,26,27,8,9,28,29,10,11,30,31,12,13,32,33,14,15,34,35,16,17,36,37,18,19,38,39,20,21,40,41]]\n",
    "#data.set_index(keys=pd.to_datetime(df[0]),drop=True,inplace=True)\n",
    "#data.set_index(keys=pd.to_datetime(df[1]),drop=True,inplace=True)\n",
    "df_wrk"
   ]
  },
  {
   "cell_type": "code",
   "execution_count": null,
   "metadata": {},
   "outputs": [],
   "source": [
    "randomly_selected_rows  = df_wrk.loc[df_wrk.groupby('Datetime', group_keys=False).apply(lambda x: x.sample(n=1, random_state=42)).index]\n",
    "randomly_selected_rows"
   ]
  }
 ],
 "metadata": {
  "kernelspec": {
   "display_name": "py38",
   "language": "python",
   "name": "python3"
  },
  "language_info": {
   "name": "python",
   "version": "3.8.17"
  },
  "orig_nbformat": 4
 },
 "nbformat": 4,
 "nbformat_minor": 2
}
